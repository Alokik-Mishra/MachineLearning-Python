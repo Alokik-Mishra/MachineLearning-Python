{
 "cells": [
  {
   "cell_type": "markdown",
   "metadata": {},
   "source": [
    "# Assignment 3 - Gaussian Process and Boosting"
   ]
  },
  {
   "cell_type": "markdown",
   "metadata": {},
   "source": [
    "## Importing libraries"
   ]
  },
  {
   "cell_type": "code",
   "execution_count": 1,
   "metadata": {},
   "outputs": [],
   "source": [
    "import numpy as np\n",
    "import pandas as pd\n",
    "import matplotlib.pyplot as plt\n",
    "import math\n",
    "import importlib\n",
    "from Utils.Funcs import *"
   ]
  },
  {
   "cell_type": "markdown",
   "metadata": {},
   "source": [
    "## Question 1 (Gaussian Process)"
   ]
  },
  {
   "cell_type": "code",
   "execution_count": 2,
   "metadata": {},
   "outputs": [],
   "source": [
    "X_train = pd.read_csv(\"Data/gaussian_process/X_train.csv\", header = None).values\n",
    "X_test = pd.read_csv(\"Data/gaussian_process/X_test.csv\", header = None).values\n",
    "Y_train = pd.read_csv(\"Data/gaussian_process/y_train.csv\", header = None).values\n",
    "Y_test = pd.read_csv(\"Data/gaussian_process/y_test.csv\", header = None).values\n",
    "\n",
    "for i in [Y_train, Y_test]:\n",
    "    i = i.reshape((i.shape[0], ))"
   ]
  },
  {
   "cell_type": "code",
   "execution_count": 3,
   "metadata": {},
   "outputs": [],
   "source": [
    "indx = [5, 7, 9, 11, 13, 15]\n",
    "sig = list(np.arange(0.1, 1.1, 0.1).round(1))\n",
    "comparison_matrix = pd.DataFrame(index = indx, columns = sig)"
   ]
  },
  {
   "cell_type": "code",
   "execution_count": 32,
   "metadata": {},
   "outputs": [],
   "source": [
    "for index in indx:\n",
    "    for col in sig:\n",
    "        p, r = gauss_predict(x_train = X_train, x_test = X_test, sig = col, b = index, y_train = Y_train, y_test= Y_test)\n",
    "        comparison_matrix.loc[index, col] = r"
   ]
  },
  {
   "cell_type": "code",
   "execution_count": 33,
   "metadata": {},
   "outputs": [
    {
     "data": {
      "text/html": [
       "<div>\n",
       "<style scoped>\n",
       "    .dataframe tbody tr th:only-of-type {\n",
       "        vertical-align: middle;\n",
       "    }\n",
       "\n",
       "    .dataframe tbody tr th {\n",
       "        vertical-align: top;\n",
       "    }\n",
       "\n",
       "    .dataframe thead th {\n",
       "        text-align: right;\n",
       "    }\n",
       "</style>\n",
       "<table border=\"1\" class=\"dataframe\">\n",
       "  <thead>\n",
       "    <tr style=\"text-align: right;\">\n",
       "      <th></th>\n",
       "      <th>0.1</th>\n",
       "      <th>0.2</th>\n",
       "      <th>0.3</th>\n",
       "      <th>0.4</th>\n",
       "      <th>0.5</th>\n",
       "      <th>0.6</th>\n",
       "      <th>0.7</th>\n",
       "      <th>0.8</th>\n",
       "      <th>0.9</th>\n",
       "      <th>1.0</th>\n",
       "    </tr>\n",
       "  </thead>\n",
       "  <tbody>\n",
       "    <tr>\n",
       "      <th>5</th>\n",
       "      <td>1.96628</td>\n",
       "      <td>1.93314</td>\n",
       "      <td>1.92342</td>\n",
       "      <td>1.9222</td>\n",
       "      <td>1.92477</td>\n",
       "      <td>1.92921</td>\n",
       "      <td>1.93463</td>\n",
       "      <td>1.94058</td>\n",
       "      <td>1.94682</td>\n",
       "      <td>1.95321</td>\n",
       "    </tr>\n",
       "    <tr>\n",
       "      <th>7</th>\n",
       "      <td>1.92016</td>\n",
       "      <td>1.90488</td>\n",
       "      <td>1.90808</td>\n",
       "      <td>1.9159</td>\n",
       "      <td>1.9248</td>\n",
       "      <td>1.9337</td>\n",
       "      <td>1.94225</td>\n",
       "      <td>1.95038</td>\n",
       "      <td>1.95809</td>\n",
       "      <td>1.96544</td>\n",
       "    </tr>\n",
       "    <tr>\n",
       "      <th>9</th>\n",
       "      <td>1.89765</td>\n",
       "      <td>1.90252</td>\n",
       "      <td>1.91765</td>\n",
       "      <td>1.93251</td>\n",
       "      <td>1.9457</td>\n",
       "      <td>1.95723</td>\n",
       "      <td>1.9674</td>\n",
       "      <td>1.97649</td>\n",
       "      <td>1.98474</td>\n",
       "      <td>1.99234</td>\n",
       "    </tr>\n",
       "    <tr>\n",
       "      <th>11</th>\n",
       "      <td>1.89051</td>\n",
       "      <td>1.91498</td>\n",
       "      <td>1.93885</td>\n",
       "      <td>1.95794</td>\n",
       "      <td>1.97322</td>\n",
       "      <td>1.98576</td>\n",
       "      <td>1.99638</td>\n",
       "      <td>2.0056</td>\n",
       "      <td>2.01384</td>\n",
       "      <td>2.02134</td>\n",
       "    </tr>\n",
       "    <tr>\n",
       "      <th>13</th>\n",
       "      <td>1.89585</td>\n",
       "      <td>1.93559</td>\n",
       "      <td>1.9646</td>\n",
       "      <td>1.9855</td>\n",
       "      <td>2.00131</td>\n",
       "      <td>2.01388</td>\n",
       "      <td>2.02431</td>\n",
       "      <td>2.03331</td>\n",
       "      <td>2.04132</td>\n",
       "      <td>2.04864</td>\n",
       "    </tr>\n",
       "    <tr>\n",
       "      <th>15</th>\n",
       "      <td>1.9096</td>\n",
       "      <td>1.95955</td>\n",
       "      <td>1.9908</td>\n",
       "      <td>2.01192</td>\n",
       "      <td>2.02737</td>\n",
       "      <td>2.03947</td>\n",
       "      <td>2.04946</td>\n",
       "      <td>2.0581</td>\n",
       "      <td>2.06585</td>\n",
       "      <td>2.07298</td>\n",
       "    </tr>\n",
       "  </tbody>\n",
       "</table>\n",
       "</div>"
      ],
      "text/plain": [
       "        0.1      0.2      0.3      0.4      0.5      0.6      0.7      0.8  \\\n",
       "5   1.96628  1.93314  1.92342   1.9222  1.92477  1.92921  1.93463  1.94058   \n",
       "7   1.92016  1.90488  1.90808   1.9159   1.9248   1.9337  1.94225  1.95038   \n",
       "9   1.89765  1.90252  1.91765  1.93251   1.9457  1.95723   1.9674  1.97649   \n",
       "11  1.89051  1.91498  1.93885  1.95794  1.97322  1.98576  1.99638   2.0056   \n",
       "13  1.89585  1.93559   1.9646   1.9855  2.00131  2.01388  2.02431  2.03331   \n",
       "15   1.9096  1.95955   1.9908  2.01192  2.02737  2.03947  2.04946   2.0581   \n",
       "\n",
       "        0.9      1.0  \n",
       "5   1.94682  1.95321  \n",
       "7   1.95809  1.96544  \n",
       "9   1.98474  1.99234  \n",
       "11  2.01384  2.02134  \n",
       "13  2.04132  2.04864  \n",
       "15  2.06585  2.07298  "
      ]
     },
     "execution_count": 33,
     "metadata": {},
     "output_type": "execute_result"
    }
   ],
   "source": [
    "comparison_matrix"
   ]
  },
  {
   "cell_type": "markdown",
   "metadata": {},
   "source": [
    "Above we can see the RMSE for different combinations of $ b $ and $ \\sigma^2 $. he best combination seems to be $ b =11 \\ \\& \\ \\sigma^2 = 0.1 $ whcih achieves an RMSE of 1.890. This is somewhat better than the approximately 2.2 we scored using our best regularized polynomial model in Assignment 1."
   ]
  },
  {
   "cell_type": "code",
   "execution_count": 10,
   "metadata": {},
   "outputs": [],
   "source": [
    "X_train_2 = X_train[:,3].reshape(X_train.shape[0], 1)\n",
    "\n",
    "p, r = gauss_predict(x_train = X_train_2, x_test = X_train_2, sig = 2, b = 5, y_train = Y_train, y_test= Y_train)"
   ]
  },
  {
   "cell_type": "code",
   "execution_count": 33,
   "metadata": {},
   "outputs": [],
   "source": [
    "combined = np.hstack((p, X_train_2, Y_train))\n",
    "df_gauss = pd.DataFrame(combined)\n",
    "df_gauss.sort_values(by = 1, inplace = True)"
   ]
  },
  {
   "cell_type": "code",
   "execution_count": 40,
   "metadata": {},
   "outputs": [
    {
     "data": {
      "image/png": "[encoded data removed]",
      "text/plain": [
       "<Figure size 432x288 with 1 Axes>"
      ]
     },
     "metadata": {
      "needs_background": "light"
     },
     "output_type": "display_data"
    }
   ],
   "source": [
    "plt.scatter(df_gauss[1], df_gauss[2], label = \"Actual\")\n",
    "plt.plot(df_gauss[1], df_gauss[0], linewidth = 3, color = \"black\", label = \"Predicted\")\n",
    "plt.legend()\n",
    "plt.xlabel(\"Car weight\")\n",
    "plt.ylabel(\"Car mpg\")\n",
    "plt.title(\"Gaussian Process on one feature\")\n",
    "plt.show()"
   ]
  },
  {
   "cell_type": "markdown",
   "metadata": {},
   "source": [
    "## Question 2 (Boosting)"
   ]
  },
  {
   "cell_type": "code",
   "execution_count": null,
   "metadata": {},
   "outputs": [],
   "source": []
  }
 ],
 "metadata": {
  "kernelspec": {
   "display_name": "Python 3",
   "language": "python",
   "name": "python3"
  },
  "language_info": {
   "codemirror_mode": {
    "name": "ipython",
    "version": 3
   },
   "file_extension": ".py",
   "mimetype": "text/x-python",
   "name": "python",
   "nbconvert_exporter": "python",
   "pygments_lexer": "ipython3",
   "version": "3.7.1"
  }
 },
 "nbformat": 4,
 "nbformat_minor": 2
}
