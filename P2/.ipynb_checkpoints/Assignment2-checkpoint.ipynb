{
 "cells": [
  {
   "cell_type": "markdown",
   "metadata": {},
   "source": [
    "# Assignment 2"
   ]
  },
  {
   "cell_type": "markdown",
   "metadata": {},
   "source": [
    "## Importing libraries"
   ]
  },
  {
   "cell_type": "code",
   "execution_count": 1,
   "metadata": {},
   "outputs": [],
   "source": [
    "import numpy as np\n",
    "import pandas as pd\n",
    "import matplotlib.pyplot as plt\n",
    "import math\n",
    "import importlib\n",
    "from Utils.Funcs import *\n",
    "from scipy import stats"
   ]
  },
  {
   "cell_type": "markdown",
   "metadata": {},
   "source": [
    "## Question 2 - Part 1 (Naive Bayes Classifier)"
   ]
  },
  {
   "cell_type": "code",
   "execution_count": 2,
   "metadata": {},
   "outputs": [],
   "source": [
    "X_train = pd.read_csv(\"Data/X_train.csv\", header = None).values\n",
    "X_test = pd.read_csv(\"Data/X_test.csv\", header = None).values\n",
    "Y_train = pd.read_csv(\"Data/y_train.csv\", header = None).values\n",
    "Y_test = pd.read_csv(\"Data/y_test.csv\", header = None).values"
   ]
  },
  {
   "cell_type": "code",
   "execution_count": 3,
   "metadata": {},
   "outputs": [],
   "source": [
    "X_0 = X_train[(Y_train==0).reshape(Y_train.shape[0]), :]\n",
    "X_1 = X_train[(Y_train==1).reshape(Y_train.shape[0]), :]"
   ]
  },
  {
   "cell_type": "markdown",
   "metadata": {},
   "source": [
    "### Prediction"
   ]
  },
  {
   "cell_type": "code",
   "execution_count": 4,
   "metadata": {},
   "outputs": [],
   "source": [
    "k = X_train.shape[1]\n",
    "\n",
    "theta_0 = [calc_bernoulli(X_0[:,i]) if i < 54 else calc_pareto(X_0[:,i]) for i in range(k)]\n",
    "theta_1 = [calc_bernoulli(X_1[:,i]) if i < 54 else calc_pareto(X_1[:,i]) for i in range(k)]"
   ]
  },
  {
   "cell_type": "code",
   "execution_count": 5,
   "metadata": {},
   "outputs": [],
   "source": [
    "pi_pred = np.mean(Y_test)\n",
    "N = X_test.shape[0]\n",
    "y_pred = [calc_bayes(theta_0 = theta_0, theta_1 = theta_1, X_test = X_test[i, :], pi_pred = pi_pred) for i in range(N)]\n",
    "y_pred = list(map(int, y_pred))"
   ]
  },
  {
   "cell_type": "code",
   "execution_count": 6,
   "metadata": {},
   "outputs": [
    {
     "data": {
      "text/html": [
       "<div>\n",
       "<style scoped>\n",
       "    .dataframe tbody tr th:only-of-type {\n",
       "        vertical-align: middle;\n",
       "    }\n",
       "\n",
       "    .dataframe tbody tr th {\n",
       "        vertical-align: top;\n",
       "    }\n",
       "\n",
       "    .dataframe thead th {\n",
       "        text-align: right;\n",
       "    }\n",
       "</style>\n",
       "<table border=\"1\" class=\"dataframe\">\n",
       "  <thead>\n",
       "    <tr style=\"text-align: right;\">\n",
       "      <th>Predicted</th>\n",
       "      <th>0</th>\n",
       "      <th>1</th>\n",
       "    </tr>\n",
       "    <tr>\n",
       "      <th>Actual</th>\n",
       "      <th></th>\n",
       "      <th></th>\n",
       "    </tr>\n",
       "  </thead>\n",
       "  <tbody>\n",
       "    <tr>\n",
       "      <th>0</th>\n",
       "      <td>55</td>\n",
       "      <td>1</td>\n",
       "    </tr>\n",
       "    <tr>\n",
       "      <th>1</th>\n",
       "      <td>6</td>\n",
       "      <td>31</td>\n",
       "    </tr>\n",
       "  </tbody>\n",
       "</table>\n",
       "</div>"
      ],
      "text/plain": [
       "Predicted   0   1\n",
       "Actual           \n",
       "0          55   1\n",
       "1           6  31"
      ]
     },
     "execution_count": 6,
     "metadata": {},
     "output_type": "execute_result"
    }
   ],
   "source": [
    "y_pred = list(map(int, y_pred))\n",
    "y_actual = Y_test.reshape(Y_test.shape[0]).tolist()\n",
    "y_pred_df = pd.DataFrame({'Actual': y_actual, 'Predicted' : y_pred})\n",
    "pd.crosstab(y_pred_df['Actual'], y_pred_df['Predicted'])"
   ]
  },
  {
   "cell_type": "markdown",
   "metadata": {},
   "source": [
    "Based on the confusion matrix above, the naive Bayes model gives us an accuracy of $ (55+31)/(55+31+6+1) = 92\\% $."
   ]
  },
  {
   "cell_type": "markdown",
   "metadata": {},
   "source": [
    "### Examining Weights"
   ]
  },
  {
   "cell_type": "code",
   "execution_count": 7,
   "metadata": {},
   "outputs": [
    {
     "data": {
      "image/png": "[encoded data removed]",
      "text/plain": [
       "<Figure size 432x288 with 2 Axes>"
      ]
     },
     "metadata": {
      "needs_background": "light"
     },
     "output_type": "display_data"
    }
   ],
   "source": [
    "plot_nbayes(weight_0 = theta_0, weight_1 = theta_1)"
   ]
  },
  {
   "cell_type": "markdown",
   "metadata": {},
   "source": [
    "The different distributions of the weights conditional on the class (spam or not spam) illustrate how the naive Bayes looks as conditional likleihood."
   ]
  },
  {
   "cell_type": "markdown",
   "metadata": {},
   "source": [
    "## Question 2 - Part 2 (K-nn classifier)"
   ]
  },
  {
   "cell_type": "code",
   "execution_count": 54,
   "metadata": {},
   "outputs": [],
   "source": [
    "np.random.seed(123456)\n",
    "N = X_test.shape[0]\n",
    "\n",
    "y_pred = [[K_nn(X_train, Y_train, X_test[i,:], k = k) for i in range(N)] for k in range(1,21)]"
   ]
  },
  {
   "cell_type": "code",
   "execution_count": 55,
   "metadata": {},
   "outputs": [],
   "source": [
    "names = [\"k = \" + str(i) for i in range(1,21)]\n",
    "y_pred_dict = {names[i]: y_pred[i] for i in range(20)}\n",
    "y_pred_df = pd.DataFrame(y_pred_dict)\n",
    "Accuracy = []\n",
    "K = y_pred_df.shape[1]\n",
    "for i in range(K):\n",
    "    Accuracy.append(np.sum(y_pred_df.iloc[:,i] == Y_test.reshape(Y_test.shape[0])) / Y_test.shape[0])"
   ]
  },
  {
   "cell_type": "code",
   "execution_count": 56,
   "metadata": {},
   "outputs": [
    {
     "data": {
      "image/png": "[encoded data removed]",
      "text/plain": [
       "<Figure size 432x288 with 1 Axes>"
      ]
     },
     "metadata": {
      "needs_background": "light"
     },
     "output_type": "display_data"
    }
   ],
   "source": [
    "plt.plot(names, Accuracy)\n",
    "plt.xticks(rotation='vertical')\n",
    "plt.xlabel(\"K neighbors\")\n",
    "plt.ylabel(\"Accuracy\")\n",
    "plt.title(\"K-nn Accuracy\")\n",
    "plt.show()"
   ]
  },
  {
   "cell_type": "markdown",
   "metadata": {},
   "source": [
    "Based on the graph above it seems as if the best number of k-neighbors is around 5-6. Although the highest accuracy reached is around $ 90 \\% $."
   ]
  },
  {
   "cell_type": "markdown",
   "metadata": {},
   "source": [
    "## Question 2 - Part 3 (Logistic Regression)"
   ]
  },
  {
   "cell_type": "code",
   "execution_count": null,
   "metadata": {},
   "outputs": [],
   "source": []
  }
 ],
 "metadata": {
  "kernelspec": {
   "display_name": "Python 3",
   "language": "python",
   "name": "python3"
  },
  "language_info": {
   "codemirror_mode": {
    "name": "ipython",
    "version": 3
   },
   "file_extension": ".py",
   "mimetype": "text/x-python",
   "name": "python",
   "nbconvert_exporter": "python",
   "pygments_lexer": "ipython3",
   "version": "3.7.1"
  }
 },
 "nbformat": 4,
 "nbformat_minor": 2
}
